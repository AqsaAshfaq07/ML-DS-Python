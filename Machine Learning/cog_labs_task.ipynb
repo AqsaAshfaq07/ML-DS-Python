{
  "nbformat": 4,
  "nbformat_minor": 0,
  "metadata": {
    "colab": {
      "provenance": []
    },
    "kernelspec": {
      "name": "python3",
      "display_name": "Python 3"
    },
    "language_info": {
      "name": "python"
    }
  },
  "cells": [
    {
      "cell_type": "markdown",
      "source": [
        "TASK-1 -- SOCIAL MEDIA POST GENERATOR"
      ],
      "metadata": {
        "id": "U0bKPamcc-xb"
      }
    },
    {
      "cell_type": "code",
      "source": [
        "%pip install -qU langchain langchain-community langchain-openai"
      ],
      "metadata": {
        "colab": {
          "base_uri": "https://localhost:8080/"
        },
        "id": "JgImre__H90J",
        "outputId": "e4a4263e-3c9a-4d34-b85a-fc19c66e1437"
      },
      "execution_count": null,
      "outputs": [
        {
          "output_type": "stream",
          "name": "stdout",
          "text": [
            "\u001b[2K     \u001b[90m━━━━━━━━━━━━━━━━━━━━━━━━━━━━━━━━━━━━━━━━\u001b[0m \u001b[32m974.0/974.0 kB\u001b[0m \u001b[31m10.0 MB/s\u001b[0m eta \u001b[36m0:00:00\u001b[0m\n",
            "\u001b[2K     \u001b[90m━━━━━━━━━━━━━━━━━━━━━━━━━━━━━━━━━━━━━━━━\u001b[0m \u001b[32m2.2/2.2 MB\u001b[0m \u001b[31m48.7 MB/s\u001b[0m eta \u001b[36m0:00:00\u001b[0m\n",
            "\u001b[2K     \u001b[90m━━━━━━━━━━━━━━━━━━━━━━━━━━━━━━━━━━━━━━━━\u001b[0m \u001b[32m314.7/314.7 kB\u001b[0m \u001b[31m14.8 MB/s\u001b[0m eta \u001b[36m0:00:00\u001b[0m\n",
            "\u001b[2K     \u001b[90m━━━━━━━━━━━━━━━━━━━━━━━━━━━━━━━━━━━━━━━━\u001b[0m \u001b[32m125.2/125.2 kB\u001b[0m \u001b[31m5.3 MB/s\u001b[0m eta \u001b[36m0:00:00\u001b[0m\n",
            "\u001b[2K     \u001b[90m━━━━━━━━━━━━━━━━━━━━━━━━━━━━━━━━━━━━━━━━\u001b[0m \u001b[32m325.5/325.5 kB\u001b[0m \u001b[31m11.6 MB/s\u001b[0m eta \u001b[36m0:00:00\u001b[0m\n",
            "\u001b[2K     \u001b[90m━━━━━━━━━━━━━━━━━━━━━━━━━━━━━━━━━━━━━━━━\u001b[0m \u001b[32m1.1/1.1 MB\u001b[0m \u001b[31m12.7 MB/s\u001b[0m eta \u001b[36m0:00:00\u001b[0m\n",
            "\u001b[2K     \u001b[90m━━━━━━━━━━━━━━━━━━━━━━━━━━━━━━━━━━━━━━━━\u001b[0m \u001b[32m49.2/49.2 kB\u001b[0m \u001b[31m962.8 kB/s\u001b[0m eta \u001b[36m0:00:00\u001b[0m\n",
            "\u001b[2K     \u001b[90m━━━━━━━━━━━━━━━━━━━━━━━━━━━━━━━━━━━━━━━━\u001b[0m \u001b[32m53.0/53.0 kB\u001b[0m \u001b[31m1.4 MB/s\u001b[0m eta \u001b[36m0:00:00\u001b[0m\n",
            "\u001b[2K     \u001b[90m━━━━━━━━━━━━━━━━━━━━━━━━━━━━━━━━━━━━━━━━\u001b[0m \u001b[32m142.7/142.7 kB\u001b[0m \u001b[31m884.5 kB/s\u001b[0m eta \u001b[36m0:00:00\u001b[0m\n",
            "\u001b[2K     \u001b[90m━━━━━━━━━━━━━━━━━━━━━━━━━━━━━━━━━━━━━━━━\u001b[0m \u001b[32m75.6/75.6 kB\u001b[0m \u001b[31m4.6 MB/s\u001b[0m eta \u001b[36m0:00:00\u001b[0m\n",
            "\u001b[2K     \u001b[90m━━━━━━━━━━━━━━━━━━━━━━━━━━━━━━━━━━━━━━━━\u001b[0m \u001b[32m77.9/77.9 kB\u001b[0m \u001b[31m5.5 MB/s\u001b[0m eta \u001b[36m0:00:00\u001b[0m\n",
            "\u001b[2K     \u001b[90m━━━━━━━━━━━━━━━━━━━━━━━━━━━━━━━━━━━━━━━━\u001b[0m \u001b[32m58.3/58.3 kB\u001b[0m \u001b[31m4.1 MB/s\u001b[0m eta \u001b[36m0:00:00\u001b[0m\n",
            "\u001b[?25h"
          ]
        }
      ]
    },
    {
      "cell_type": "code",
      "execution_count": 37,
      "metadata": {
        "colab": {
          "base_uri": "https://localhost:8080/"
        },
        "id": "bA7IaH81DSlJ",
        "outputId": "b649093a-3182-46f9-9eb7-989b5dccb830"
      },
      "outputs": [
        {
          "output_type": "stream",
          "name": "stdout",
          "text": [
            "Did you know? 75% of classroom-style training is forgotten if it's not implemented within 6 days after. Discover how successful collaboration between Sodexo and CoachHub to accelerate leadership development across the APMEA region.\n",
            "\n",
            "🌟 The key results achieved in this story include:\n",
            "- Implementation of scalable coaching programs powered by AI and analytics\n",
            "- Improved knowledge retention among employees\n",
            "- Enhanced leadership skills development\n",
            "- Increased employee engagement across the APMEA region\n",
            "\n",
            "Join thousands of coachees like Sodexo's Head of FMCG Accounts, Jean Baptiste CALEMARD, on a journey of growth and transformation to explore the greater you. #ExploreTheGreaterYou https://bit.ly/3LMxIHg\n"
          ]
        }
      ],
      "source": [
        "from langchain.prompts import ChatPromptTemplate\n",
        "from langchain_openai import ChatOpenAI\n",
        "from google.colab import userdata\n",
        "\n",
        "file = open(\"doc1.txt\")\n",
        "def parse_questions_answers(text):\n",
        "    lines = text.split('\\n')\n",
        "    qa_dict = {}\n",
        "    question = None\n",
        "    answer_lines = []\n",
        "\n",
        "    for line in lines:\n",
        "        if line.startswith(\"Q\"):\n",
        "            if question:\n",
        "                qa_dict[question] = ' '.join(answer_lines).strip()\n",
        "            question = line.strip()\n",
        "            answer_lines = []\n",
        "        elif line.startswith(\"Ans.\"):\n",
        "            answer_lines.append(line[5:].strip())  # Remove 'Ans. ' prefix\n",
        "        else:\n",
        "            answer_lines.append(line.strip())\n",
        "\n",
        "    # Add the last Q&A pair\n",
        "    if question:\n",
        "        qa_dict[question] = ' '.join(answer_lines).strip()\n",
        "\n",
        "    return qa_dict\n",
        "\n",
        "# Parse the input text\n",
        "answers = parse_questions_answers(file.read())\n",
        "\n",
        "review_template_str = \"\"\"\n",
        "    Your job is to generate a social media post\n",
        "    based on the answers to the questions provided by user.\n",
        "    Use the following context to generate post. Be as specific\n",
        "    as possible, but don't make up any information that's not\n",
        "    provided by user. If you aren't provided the information, just add what\n",
        "    ever is there in its place. Make the post according to the {tone}\n",
        "    mentioned by user. Here is a sample post:\n",
        "\n",
        "    Did you know? {quotes}\n",
        "    Discover how {case_study}:\n",
        "    Make bullets of the {achievements}. Also add relevant info from your knowledge.\n",
        "    {call_to_action} to #{hashtag}\n",
        "\n",
        "\"\"\"\n",
        "\n",
        "review_template = ChatPromptTemplate.from_template(review_template_str)\n",
        "\n",
        "quotes = answers.get(\"Q4. Are there any data, quotes, or testimonials that illustrate the impact?\")\n",
        "case_study = answers.get(\"Q1. Can you describe the specific case study or transformation story you want to share?\")\n",
        "achievements = answers.get(\"Q3. What were the key results or outcomes achieved in this story?\")\n",
        "results = answers.get(\"Q3. What were the key results or outcomes achieved in this story?\")\n",
        "call_to_action = answers.get(\"Q5. Is there a specific call-to-action?\")\n",
        "hashtag = answers.get(\"Q6. Are there any specific hashtags you’d like to include?\")\n",
        "tone = answers.get(\"Q7. Describe your desired tone and style.\")\n",
        "\n",
        "ans = review_template.format(quotes = quotes, case_study = case_study, achievements = achievements, results = results, call_to_action = call_to_action, hashtag = hashtag, tone = tone)\n",
        "# print(ans)\n",
        "\n",
        "\n",
        "llm = ChatOpenAI(model=\"gpt-3.5-turbo-0125\", temperature=0, openai_api_key= userdata.get(\"OPENAI_API_KEY\"))\n",
        "prompt = f\"Modify this {ans} according to the {tone} mentioned by user. Also add supporting facts to this social media post inside the bullets in the post to make it look more appealing. \"\n",
        "response = llm.invoke(prompt)\n",
        "print(response.content)"
      ]
    },
    {
      "cell_type": "markdown",
      "source": [
        "TASK-2 -- TIMETABLE GENERATOR"
      ],
      "metadata": {
        "id": "lFmHhDF5dF4u"
      }
    },
    {
      "cell_type": "code",
      "source": [
        "from langchain.prompts import ChatPromptTemplate\n",
        "from langchain_openai import ChatOpenAI\n",
        "import pandas as pd\n",
        "from google.colab import userdata\n",
        "\n",
        "# Step 1: Read student data from CSV\n",
        "data = pd.read_csv(\"Student Data Rows.csv\")\n",
        "\n",
        "# Assuming 'Name' is the column containing student names -- it should be inside the student data sheet\n",
        "student_name = input(\"Enter your name: \")\n",
        "student = data[data['Name'] == student_name]\n",
        "\n",
        "# Step 2: Define the review template\n",
        "review_template_str = \"\"\"\n",
        "Your job is to create personalized study plans for students. You have access\n",
        "to a range of information about the student here {data}. Thoroughly analyze the diverse array of\n",
        "student-specific data, encompassing their subjects and academic performance across\n",
        "different subjects, preferred learning styles (visual, auditory, kinesthetic), extracurricular\n",
        "activities, and distinct personal objectives or challenges (such as preparing for a specific\n",
        "exam or overcoming a learning difficulty). Synthesize this information to create a study plan that\n",
        "not only addresses academic requirements but also aligns with each student's unique needs and aspirations.\n",
        "Ensure that all-inclusive and individualized plans are generated.\n",
        "Make sure that the study plan caters to each student’s specific needs.\n",
        "\"\"\"\n",
        "\n",
        "# Step 3: Format the template with student data\n",
        "review_template = ChatPromptTemplate.from_template(review_template_str)\n",
        "formatted_template = review_template.format(data=student)\n",
        "\n",
        "# Step 4: Initialize the LLM\n",
        "llm = ChatOpenAI(model=\"gpt-3.5-turbo-0125\", temperature=0, openai_api_key=userdata.get(\"OPENAI_API_KEY\"))\n",
        "\n",
        "# Step 5: Generate personalized study plan\n",
        "prompt = f\"Follow this template:\\n\\n{formatted_template}\\n\\nGenerate a personalized study plan for {student_name}.\"\n",
        "response = llm.invoke(prompt)\n",
        "print(response.content)\n"
      ],
      "metadata": {
        "colab": {
          "base_uri": "https://localhost:8080/"
        },
        "id": "KtUazf2ZdJ2f",
        "outputId": "676e1ea7-98fb-4664-fa65-f5f40344fae0"
      },
      "execution_count": 41,
      "outputs": [
        {
          "output_type": "stream",
          "name": "stdout",
          "text": [
            "Enter your name: John Smith\n",
            "Student: John Smith\n",
            "Field of Study: Computer Science\n",
            "Year of Study: 2nd Year\n",
            "Subjects: Algorithms, Data Structures\n",
            "Preferred Learning Styles: Visual, Logical\n",
            "Personal Objectives: Master algorithms for competitive programming.\n",
            "Challenges: Managing time between studies and part-time job.\n",
            "Extracurricular Activities: Coding Club, Soccer Team\n",
            "\n",
            "Based on the information provided, here is a personalized study plan for John Smith:\n",
            "\n",
            "1. Time Management:\n",
            "- Create a schedule that allows for dedicated study time for Algorithms and Data Structures while also balancing your part-time job and extracurricular activities.\n",
            "- Use visual aids such as color-coded calendars or study planners to help organize your time effectively.\n",
            "\n",
            "2. Visual Learning Techniques:\n",
            "- Utilize visual learning resources such as diagrams, charts, and videos to enhance your understanding of complex algorithms and data structures.\n",
            "- Create mind maps or flowcharts to visually represent key concepts and connections between different topics.\n",
            "\n",
            "3. Practice and Application:\n",
            "- Engage in regular practice sessions to reinforce your understanding of algorithms and data structures.\n",
            "- Participate in coding challenges or competitions to apply your knowledge in a competitive programming setting and track your progress towards mastering these concepts.\n",
            "\n",
            "4. Seek Support:\n",
            "- Join study groups or online forums related to computer science to collaborate with peers and seek help when needed.\n",
            "- Consider reaching out to professors or tutors for additional guidance and clarification on challenging topics.\n",
            "\n",
            "5. Self-Care and Balance:\n",
            "- Prioritize self-care activities such as exercise, relaxation, and adequate sleep to maintain a healthy balance between academic responsibilities and personal well-being.\n",
            "- Stay connected with your extracurricular activities, such as the Coding Club and Soccer Team, as they can provide a valuable break from studying and contribute to your overall growth and development.\n",
            "\n",
            "By following this personalized study plan, you can effectively master algorithms for competitive programming while managing your time efficiently and addressing your unique learning preferences and challenges. Remember to adapt the plan as needed and stay motivated towards achieving your academic and personal goals. Good luck, John!\n"
          ]
        }
      ]
    },
    {
      "cell_type": "code",
      "source": [],
      "metadata": {
        "id": "lDka8D3mk5fJ"
      },
      "execution_count": null,
      "outputs": []
    }
  ]
}
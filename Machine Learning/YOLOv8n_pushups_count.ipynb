{
  "cells": [
    {
      "cell_type": "code",
      "execution_count": 4,
      "metadata": {
        "id": "wJIbZn_KEpO3"
      },
      "outputs": [],
      "source": [
        "!pip install -q ultralytics"
      ]
    },
    {
      "cell_type": "code",
      "execution_count": 11,
      "metadata": {
        "id": "h404ZiexE6Ol",
        "colab": {
          "base_uri": "https://localhost:8080/"
        },
        "outputId": "cedc5af9-1077-47af-989e-b07daa35f797"
      },
      "outputs": [
        {
          "output_type": "stream",
          "name": "stdout",
          "text": [
            "WARNING ⚠️ Environment does not support cv2.imshow() or PIL Image.show()\n",
            "\n",
            "Video frame is empty or video processing has been successfully completed.\n"
          ]
        }
      ],
      "source": [
        "import cv2\n",
        "from ultralytics import YOLO, solutions\n",
        "\n",
        "model = YOLO(\"yolov8n-pose.pt\")\n",
        "cap = cv2.VideoCapture(\"5195148-hd_1920_1080_30fps.mp4\")\n",
        "assert cap.isOpened(), \"Error reading video file\"\n",
        "w, h, fps = (int(cap.get(x)) for x in (cv2.CAP_PROP_FRAME_WIDTH, cv2.CAP_PROP_FRAME_HEIGHT, cv2.CAP_PROP_FPS))\n",
        "\n",
        "gym_object = solutions.AIGym(\n",
        "    line_thickness=2,\n",
        "    view_img=True,\n",
        "    pose_type=\"pushup\",\n",
        "    kpts_to_check=[6, 8, 10],\n",
        ")\n",
        "\n",
        "frame_count = 0\n",
        "while cap.isOpened():\n",
        "    success, im0 = cap.read()\n",
        "    if not success:\n",
        "        print(\"Video frame is empty or video processing has been successfully completed.\")\n",
        "        break\n",
        "    frame_count += 1\n",
        "    results = model.track(im0, verbose=False)  # Tracking recommended\n",
        "    # results = model.predict(im0)  # Prediction also supported\n",
        "    im0 = gym_object.start_counting(im0, results[0], frame_count)\n",
        "\n",
        "cv2.destroyAllWindows()"
      ]
    }
  ],
  "metadata": {
    "colab": {
      "provenance": []
    },
    "kernelspec": {
      "display_name": "Python 3",
      "name": "python3"
    },
    "language_info": {
      "name": "python"
    }
  },
  "nbformat": 4,
  "nbformat_minor": 0
}
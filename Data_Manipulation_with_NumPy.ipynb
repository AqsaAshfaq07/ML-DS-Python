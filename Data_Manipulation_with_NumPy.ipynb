{
 "cells": [
  {
   "cell_type": "markdown",
   "id": "98a798e0",
   "metadata": {},
   "source": [
    "# DATA MANIPULATION WITH NUMPY"
   ]
  },
  {
   "cell_type": "code",
   "execution_count": 1,
   "id": "b9888fd7",
   "metadata": {},
   "outputs": [],
   "source": [
    "import numpy as np\n",
    "arr = np.array([1, 2, 3])"
   ]
  },
  {
   "cell_type": "code",
   "execution_count": 2,
   "id": "af1a253c",
   "metadata": {},
   "outputs": [
    {
     "name": "stdout",
     "output_type": "stream",
     "text": [
      "array is: \n"
     ]
    },
    {
     "data": {
      "text/plain": [
       "dtype('int32')"
      ]
     },
     "execution_count": 2,
     "metadata": {},
     "output_type": "execute_result"
    }
   ],
   "source": [
    "print('array is: '.format(repr(arr)))\n",
    "arr.dtype"
   ]
  },
  {
   "cell_type": "code",
   "execution_count": 3,
   "id": "57139a66",
   "metadata": {},
   "outputs": [
    {
     "data": {
      "text/plain": [
       "dtype('float32')"
      ]
     },
     "execution_count": 3,
     "metadata": {},
     "output_type": "execute_result"
    }
   ],
   "source": [
    "# TYPE CASTING\n",
    "arr = arr.astype(np.float32)\n",
    "arr.dtype"
   ]
  },
  {
   "cell_type": "code",
   "execution_count": 4,
   "id": "7e2f508b",
   "metadata": {},
   "outputs": [
    {
     "data": {
      "text/plain": [
       "array([-inf,   2.,   4.])"
      ]
     },
     "execution_count": 4,
     "metadata": {},
     "output_type": "execute_result"
    }
   ],
   "source": [
    "# FILLER VALUE -- USING nan, infinity(inf)\n",
    "arr1 = np.array([np.nan, 2, 4])\n",
    "arr2 = np.array([np.inf, 2, 4])\n",
    "arr2 = np.array([-np.inf, 2, 4])\n",
    "\n",
    "arr2"
   ]
  },
  {
   "cell_type": "markdown",
   "id": "3fec0dc9",
   "metadata": {},
   "source": [
    "MATH"
   ]
  },
  {
   "cell_type": "code",
   "execution_count": 5,
   "id": "d45075d0",
   "metadata": {},
   "outputs": [
    {
     "data": {
      "text/plain": [
       "array([5.9, 6. , 6.1, 6.2, 6.3, 6.4, 6.5, 6.6, 6.7, 6.8])"
      ]
     },
     "execution_count": 5,
     "metadata": {},
     "output_type": "execute_result"
    }
   ],
   "source": [
    "#Ranged Data\n",
    "arr3 = np.arange(5.9, 6.9, 0.1)  # --> start, end, gap\n",
    "arr3"
   ]
  },
  {
   "cell_type": "code",
   "execution_count": 6,
   "id": "f4699bf0",
   "metadata": {},
   "outputs": [
    {
     "data": {
      "text/plain": [
       "array([3. , 3.5, 4. , 4.5, 5. , 5.5, 6. , 6.5])"
      ]
     },
     "execution_count": 6,
     "metadata": {},
     "output_type": "execute_result"
    }
   ],
   "source": [
    "arr4 = np.linspace(3, 7, num= 8, endpoint= False)\n",
    "arr4"
   ]
  },
  {
   "cell_type": "code",
   "execution_count": 7,
   "id": "3dc8c1ee",
   "metadata": {},
   "outputs": [
    {
     "data": {
      "text/plain": [
       "array([[[5.9],\n",
       "        [6. ],\n",
       "        [6.1],\n",
       "        [6.2],\n",
       "        [6.3],\n",
       "        [6.4],\n",
       "        [6.5],\n",
       "        [6.6],\n",
       "        [6.7],\n",
       "        [6.8]]])"
      ]
     },
     "execution_count": 7,
     "metadata": {},
     "output_type": "execute_result"
    }
   ],
   "source": [
    "np.reshape(arr3, (-1, 10, 1))"
   ]
  },
  {
   "cell_type": "code",
   "execution_count": 8,
   "id": "7fee6296",
   "metadata": {},
   "outputs": [
    {
     "data": {
      "text/plain": [
       "array([[1, 2, 4],\n",
       "       [5, 7, 9],\n",
       "       [3, 6, 3]])"
      ]
     },
     "execution_count": 8,
     "metadata": {},
     "output_type": "execute_result"
    }
   ],
   "source": [
    "arr5 = np.array([[1, 2, 4], [5, 7, 9], [3, 6, 3]])\n",
    "arr5.flatten()\n",
    "arr5"
   ]
  },
  {
   "cell_type": "code",
   "execution_count": 9,
   "id": "8ebcf87b",
   "metadata": {},
   "outputs": [
    {
     "ename": "ValueError",
     "evalue": "axes don't match array",
     "output_type": "error",
     "traceback": [
      "\u001b[1;31m---------------------------------------------------------------------------\u001b[0m",
      "\u001b[1;31mValueError\u001b[0m                                Traceback (most recent call last)",
      "\u001b[1;32m~\\AppData\\Local\\Temp\\ipykernel_11832\\1200235180.py\u001b[0m in \u001b[0;36m<module>\u001b[1;34m\u001b[0m\n\u001b[0;32m      1\u001b[0m \u001b[0marr6\u001b[0m \u001b[1;33m=\u001b[0m \u001b[0mnp\u001b[0m\u001b[1;33m.\u001b[0m\u001b[0marange\u001b[0m\u001b[1;33m(\u001b[0m\u001b[1;36m24\u001b[0m\u001b[1;33m)\u001b[0m\u001b[1;33m\u001b[0m\u001b[1;33m\u001b[0m\u001b[0m\n\u001b[0;32m      2\u001b[0m \u001b[0marr6\u001b[0m \u001b[1;33m=\u001b[0m \u001b[0mnp\u001b[0m\u001b[1;33m.\u001b[0m\u001b[0mreshape\u001b[0m\u001b[1;33m(\u001b[0m\u001b[0marr6\u001b[0m\u001b[1;33m,\u001b[0m \u001b[1;33m(\u001b[0m\u001b[1;36m3\u001b[0m\u001b[1;33m,\u001b[0m \u001b[1;36m4\u001b[0m\u001b[1;33m,\u001b[0m \u001b[1;36m2\u001b[0m\u001b[1;33m)\u001b[0m\u001b[1;33m)\u001b[0m\u001b[1;33m\u001b[0m\u001b[1;33m\u001b[0m\u001b[0m\n\u001b[1;32m----> 3\u001b[1;33m \u001b[0mtransposed\u001b[0m \u001b[1;33m=\u001b[0m \u001b[0mnp\u001b[0m\u001b[1;33m.\u001b[0m\u001b[0mtranspose\u001b[0m\u001b[1;33m(\u001b[0m\u001b[0marr\u001b[0m\u001b[1;33m,\u001b[0m \u001b[0maxes\u001b[0m\u001b[1;33m=\u001b[0m\u001b[1;33m(\u001b[0m\u001b[1;36m1\u001b[0m\u001b[1;33m,\u001b[0m \u001b[1;36m2\u001b[0m\u001b[1;33m,\u001b[0m \u001b[1;36m0\u001b[0m\u001b[1;33m)\u001b[0m\u001b[1;33m)\u001b[0m\u001b[1;33m\u001b[0m\u001b[1;33m\u001b[0m\u001b[0m\n\u001b[0m\u001b[0;32m      4\u001b[0m \u001b[0mtransposed\u001b[0m\u001b[1;33m\u001b[0m\u001b[1;33m\u001b[0m\u001b[0m\n",
      "\u001b[1;32m<__array_function__ internals>\u001b[0m in \u001b[0;36mtranspose\u001b[1;34m(*args, **kwargs)\u001b[0m\n",
      "\u001b[1;32mE:\\SOFTWARES\\ANACONDA\\lib\\site-packages\\numpy\\core\\fromnumeric.py\u001b[0m in \u001b[0;36mtranspose\u001b[1;34m(a, axes)\u001b[0m\n\u001b[0;32m    658\u001b[0m \u001b[1;33m\u001b[0m\u001b[0m\n\u001b[0;32m    659\u001b[0m     \"\"\"\n\u001b[1;32m--> 660\u001b[1;33m     \u001b[1;32mreturn\u001b[0m \u001b[0m_wrapfunc\u001b[0m\u001b[1;33m(\u001b[0m\u001b[0ma\u001b[0m\u001b[1;33m,\u001b[0m \u001b[1;34m'transpose'\u001b[0m\u001b[1;33m,\u001b[0m \u001b[0maxes\u001b[0m\u001b[1;33m)\u001b[0m\u001b[1;33m\u001b[0m\u001b[1;33m\u001b[0m\u001b[0m\n\u001b[0m\u001b[0;32m    661\u001b[0m \u001b[1;33m\u001b[0m\u001b[0m\n\u001b[0;32m    662\u001b[0m \u001b[1;33m\u001b[0m\u001b[0m\n",
      "\u001b[1;32mE:\\SOFTWARES\\ANACONDA\\lib\\site-packages\\numpy\\core\\fromnumeric.py\u001b[0m in \u001b[0;36m_wrapfunc\u001b[1;34m(obj, method, *args, **kwds)\u001b[0m\n\u001b[0;32m     55\u001b[0m \u001b[1;33m\u001b[0m\u001b[0m\n\u001b[0;32m     56\u001b[0m     \u001b[1;32mtry\u001b[0m\u001b[1;33m:\u001b[0m\u001b[1;33m\u001b[0m\u001b[1;33m\u001b[0m\u001b[0m\n\u001b[1;32m---> 57\u001b[1;33m         \u001b[1;32mreturn\u001b[0m \u001b[0mbound\u001b[0m\u001b[1;33m(\u001b[0m\u001b[1;33m*\u001b[0m\u001b[0margs\u001b[0m\u001b[1;33m,\u001b[0m \u001b[1;33m**\u001b[0m\u001b[0mkwds\u001b[0m\u001b[1;33m)\u001b[0m\u001b[1;33m\u001b[0m\u001b[1;33m\u001b[0m\u001b[0m\n\u001b[0m\u001b[0;32m     58\u001b[0m     \u001b[1;32mexcept\u001b[0m \u001b[0mTypeError\u001b[0m\u001b[1;33m:\u001b[0m\u001b[1;33m\u001b[0m\u001b[1;33m\u001b[0m\u001b[0m\n\u001b[0;32m     59\u001b[0m         \u001b[1;31m# A TypeError occurs if the object does have such a method in its\u001b[0m\u001b[1;33m\u001b[0m\u001b[1;33m\u001b[0m\u001b[0m\n",
      "\u001b[1;31mValueError\u001b[0m: axes don't match array"
     ]
    }
   ],
   "source": [
    "arr6 = np.arange(24)\n",
    "arr6 = np.reshape(arr6, (3, 4, 2))\n",
    "transposed = np.transpose(arr, axes=(1, 2, 0))\n",
    "transposed "
   ]
  },
  {
   "cell_type": "code",
   "execution_count": null,
   "id": "7e75e56a",
   "metadata": {},
   "outputs": [],
   "source": [
    "np.zeros(4)\n",
    "np.ones((4, 5))"
   ]
  },
  {
   "cell_type": "code",
   "execution_count": null,
   "id": "2b0a5003",
   "metadata": {},
   "outputs": [],
   "source": [
    "np.zeros_like(arr5)"
   ]
  },
  {
   "cell_type": "markdown",
   "id": "7ba8c9c9",
   "metadata": {},
   "source": [
    "# RANDOM"
   ]
  },
  {
   "cell_type": "code",
   "execution_count": null,
   "id": "0f522862",
   "metadata": {},
   "outputs": [],
   "source": [
    "#ARITHEMATIC OPERATIONS ON ARRAYS  -- these operations are performed element-wise by default\n",
    "arr7 = np.array([[1, 2], [3, 4]])\n",
    "arr7 + 2\n",
    "arr7 * 2\n",
    "arr7 - 2\n",
    "arr7 / 2\n",
    "arr7 % 2\n",
    "arr7 // 2\n",
    "arr7 ** 2\n",
    "arr7 ** 0.5"
   ]
  },
  {
   "cell_type": "code",
   "execution_count": null,
   "id": "a28582b6",
   "metadata": {},
   "outputs": [],
   "source": [
    "#NON-LINEAR FUNCTIONS\n",
    "np.exp(arr3)\n",
    "np.exp2(arr3)\n",
    "np.log(arr3)\n",
    "np.log2(arr3)\n",
    "np.log10(arr3)\n",
    "np.power(4, arr3)"
   ]
  },
  {
   "cell_type": "code",
   "execution_count": null,
   "id": "b597bba2",
   "metadata": {},
   "outputs": [],
   "source": [
    "#MATRIX MULPLICATION\n",
    "mat1 = np.array([[1, 2], [3, 4], [2, 3]])\n",
    "mat2 = np.array([[1, 2, 4], [3, 8, 4]])\n",
    "np.matmul(mat1, mat2)"
   ]
  },
  {
   "cell_type": "code",
   "execution_count": null,
   "id": "b9b357b6",
   "metadata": {},
   "outputs": [],
   "source": [
    "#Random Integers \n",
    "rand_num = np.random.randint(3, high = 7, size = (1,6))\n",
    "rand_num"
   ]
  },
  {
   "cell_type": "code",
   "execution_count": 10,
   "id": "7fa47191",
   "metadata": {},
   "outputs": [
    {
     "data": {
      "text/plain": [
       "array([[[16, 17],\n",
       "        [18, 19],\n",
       "        [20, 21],\n",
       "        [22, 23]],\n",
       "\n",
       "       [[ 0,  1],\n",
       "        [ 2,  3],\n",
       "        [ 4,  5],\n",
       "        [ 6,  7]],\n",
       "\n",
       "       [[ 8,  9],\n",
       "        [10, 11],\n",
       "        [12, 13],\n",
       "        [14, 15]]])"
      ]
     },
     "execution_count": 10,
     "metadata": {},
     "output_type": "execute_result"
    }
   ],
   "source": [
    "#Utility Functions\n",
    "np.random.seed(4)\n",
    "rand_num = np.random.randint(3, high = 7, size = (1,6))\n",
    "rand_num\n",
    "\n",
    "np.random.seed(10)\n",
    "rand_num = np.random.randint(3, high = 7, size = (1,6))\n",
    "rand_num\n",
    "\n",
    "np.random.shuffle(arr)\n",
    "np.random.shuffle(arr6)\n",
    "arr6"
   ]
  },
  {
   "cell_type": "code",
   "execution_count": 127,
   "id": "cb073556",
   "metadata": {},
   "outputs": [
    {
     "data": {
      "text/plain": [
       "array([-2.10472633,  2.18965487, -0.2898545 ,  5.11056531,  6.12011669,\n",
       "        5.50820048])"
      ]
     },
     "execution_count": 127,
     "metadata": {},
     "output_type": "execute_result"
    }
   ],
   "source": [
    "#Distributions \n",
    "np.random.uniform(1, 3, size = (5, 2))\n",
    "np.random.normal(loc = 3, scale = 5, size = 6)    # loc -> mean, scale -> standard deviation"
   ]
  },
  {
   "cell_type": "code",
   "execution_count": 128,
   "id": "ac720c85",
   "metadata": {},
   "outputs": [
    {
     "data": {
      "text/plain": [
       "array([2.9, 2.9, 3.8, 3.8, 2.9])"
      ]
     },
     "execution_count": 128,
     "metadata": {},
     "output_type": "execute_result"
    }
   ],
   "source": [
    "#Custom Sampling\n",
    "arr8 = np.arange(2, 4, 0.9)\n",
    "np.random.choice(arr8, size = 5, p = [0.2, 0.6, 0.2]) # sum of p(probability) values =1 -- defines the chance to be chosen"
   ]
  },
  {
   "cell_type": "markdown",
   "id": "45126ee6",
   "metadata": {},
   "source": [
    "# INDEXING"
   ]
  },
  {
   "cell_type": "code",
   "execution_count": 129,
   "id": "2cd17e36",
   "metadata": {},
   "outputs": [
    {
     "data": {
      "text/plain": [
       "array([2. , 2.9, 3.8])"
      ]
     },
     "execution_count": 129,
     "metadata": {},
     "output_type": "execute_result"
    }
   ],
   "source": [
    "#Accessing Arrays\n",
    "arr8[2]\n",
    "arr8"
   ]
  },
  {
   "cell_type": "code",
   "execution_count": 130,
   "id": "8c170743",
   "metadata": {},
   "outputs": [
    {
     "data": {
      "text/plain": [
       "array([2.])"
      ]
     },
     "execution_count": 130,
     "metadata": {},
     "output_type": "execute_result"
    }
   ],
   "source": [
    "#Slicing Arrays\n",
    "arr8[:1]"
   ]
  },
  {
   "cell_type": "code",
   "execution_count": 131,
   "id": "20eab849",
   "metadata": {},
   "outputs": [
    {
     "data": {
      "text/plain": [
       "2"
      ]
     },
     "execution_count": 131,
     "metadata": {},
     "output_type": "execute_result"
    }
   ],
   "source": [
    "#Argmin and Argmax --> returns the index of the smallest or largest value in the array\n",
    "np.argmin(arr8)  \n",
    "np.argmax(arr8)"
   ]
  },
  {
   "cell_type": "code",
   "execution_count": 132,
   "id": "c9d974bf",
   "metadata": {},
   "outputs": [
    {
     "data": {
      "text/plain": [
       "8"
      ]
     },
     "execution_count": 132,
     "metadata": {},
     "output_type": "execute_result"
    }
   ],
   "source": [
    "np.argmin(arr6)"
   ]
  },
  {
   "cell_type": "code",
   "execution_count": 133,
   "id": "bb8b8f47",
   "metadata": {},
   "outputs": [
    {
     "data": {
      "text/plain": [
       "7"
      ]
     },
     "execution_count": 133,
     "metadata": {},
     "output_type": "execute_result"
    }
   ],
   "source": [
    "np.argmax(arr6)"
   ]
  },
  {
   "cell_type": "code",
   "execution_count": 134,
   "id": "d7d90cd2",
   "metadata": {},
   "outputs": [
    {
     "data": {
      "text/plain": [
       "array([[1, 1],\n",
       "       [1, 1],\n",
       "       [1, 1],\n",
       "       [1, 1]], dtype=int64)"
      ]
     },
     "execution_count": 134,
     "metadata": {},
     "output_type": "execute_result"
    }
   ],
   "source": [
    "np.argmin(arr6, axis = 0)"
   ]
  },
  {
   "cell_type": "code",
   "execution_count": 135,
   "id": "673b9a61",
   "metadata": {},
   "outputs": [
    {
     "data": {
      "text/plain": [
       "array([20, 21])"
      ]
     },
     "execution_count": 135,
     "metadata": {},
     "output_type": "execute_result"
    }
   ],
   "source": [
    "arr6[0][2]"
   ]
  },
  {
   "cell_type": "markdown",
   "id": "64588141",
   "metadata": {},
   "source": [
    "# FILTERING"
   ]
  },
  {
   "cell_type": "code",
   "execution_count": 136,
   "id": "a3854f7b",
   "metadata": {},
   "outputs": [
    {
     "data": {
      "text/plain": [
       "array([[[ True,  True],\n",
       "        [ True,  True],\n",
       "        [ True,  True],\n",
       "        [ True,  True]],\n",
       "\n",
       "       [[False, False],\n",
       "        [False, False],\n",
       "        [ True,  True],\n",
       "        [ True,  True]],\n",
       "\n",
       "       [[ True,  True],\n",
       "        [ True,  True],\n",
       "        [ True,  True],\n",
       "        [ True,  True]]])"
      ]
     },
     "execution_count": 136,
     "metadata": {},
     "output_type": "execute_result"
    }
   ],
   "source": [
    "arr6 > 3"
   ]
  },
  {
   "cell_type": "code",
   "execution_count": 137,
   "id": "25540b27",
   "metadata": {},
   "outputs": [
    {
     "data": {
      "text/plain": [
       "array([[False, False,  True],\n",
       "       [ True, False, False],\n",
       "       [False,  True, False]])"
      ]
     },
     "execution_count": 137,
     "metadata": {},
     "output_type": "execute_result"
    }
   ],
   "source": [
    "arr9 = [[1, 2, np.nan], [np.nan, 4, 5], [6, np.nan, 8]]\n",
    "np.isnan(arr9)"
   ]
  },
  {
   "cell_type": "code",
   "execution_count": 138,
   "id": "d569356a",
   "metadata": {},
   "outputs": [
    {
     "data": {
      "text/plain": [
       "(array([3, 4], dtype=int64),)"
      ]
     },
     "execution_count": 138,
     "metadata": {},
     "output_type": "execute_result"
    }
   ],
   "source": [
    "arr10 = np.array([1, 2, 3, 5, 9])\n",
    "np.where(arr10 > 3)  # finds index according to provided condition"
   ]
  },
  {
   "cell_type": "code",
   "execution_count": 139,
   "id": "315a1778",
   "metadata": {},
   "outputs": [
    {
     "data": {
      "text/plain": [
       "False"
      ]
     },
     "execution_count": 139,
     "metadata": {},
     "output_type": "execute_result"
    }
   ],
   "source": [
    "np.any(arr6 > 6)  # True\n",
    "np.all(arr > 3, axis = 0)  # False"
   ]
  },
  {
   "cell_type": "code",
   "execution_count": 140,
   "id": "ea8e1b01",
   "metadata": {},
   "outputs": [
    {
     "data": {
      "text/plain": [
       "numpy.broadcast"
      ]
     },
     "execution_count": 140,
     "metadata": {},
     "output_type": "execute_result"
    }
   ],
   "source": [
    "np.broadcast"
   ]
  },
  {
   "cell_type": "markdown",
   "id": "0a1e03ea",
   "metadata": {},
   "source": [
    "# Statistics"
   ]
  },
  {
   "cell_type": "code",
   "execution_count": 143,
   "id": "e503f412",
   "metadata": {},
   "outputs": [
    {
     "data": {
      "text/plain": [
       "array([ 16,  33,  51,  70,  90, 111, 133, 156, 156, 157, 159, 162, 166,\n",
       "       171, 177, 184, 192, 201, 211, 222, 234, 247, 261, 276], dtype=int32)"
      ]
     },
     "execution_count": 143,
     "metadata": {},
     "output_type": "execute_result"
    }
   ],
   "source": [
    "np.mean(arr6)\n",
    "np.sum(arr6)\n",
    "np.cumsum(arr6)  # running sum of all numbers"
   ]
  },
  {
   "cell_type": "code",
   "execution_count": 144,
   "id": "351073da",
   "metadata": {},
   "outputs": [
    {
     "data": {
      "text/plain": [
       "array([16, 17, 18, 19, 20, 21, 22, 23,  0,  1,  2,  3,  4,  5,  6,  7,  8,\n",
       "        9, 10, 11, 12, 13, 14, 15])"
      ]
     },
     "execution_count": 144,
     "metadata": {},
     "output_type": "execute_result"
    }
   ],
   "source": [
    "arr6.flatten()"
   ]
  },
  {
   "cell_type": "code",
   "execution_count": 146,
   "id": "ae77a504",
   "metadata": {},
   "outputs": [
    {
     "data": {
      "text/plain": [
       "array([[ 1.,  2.,  4.,  1.,  2., nan],\n",
       "       [ 3.,  5.,  7., nan,  4.,  5.],\n",
       "       [ 6.,  8.,  9.,  6., nan,  8.]])"
      ]
     },
     "execution_count": 146,
     "metadata": {},
     "output_type": "execute_result"
    }
   ],
   "source": [
    "arr11 = np.array([[1, 2, 4], [3, 5, 7], [6, 8, 9]])\n",
    "np.concatenate([arr11, arr9], axis = 1)  #performs horizonal concatenation"
   ]
  },
  {
   "cell_type": "markdown",
   "id": "342a29ec",
   "metadata": {},
   "source": [
    "# Saving And Loading"
   ]
  },
  {
   "cell_type": "code",
   "execution_count": 149,
   "id": "597b6646",
   "metadata": {},
   "outputs": [],
   "source": [
    "np.save('arr.npy', arr9)"
   ]
  },
  {
   "cell_type": "code",
   "execution_count": 150,
   "id": "66a0399b",
   "metadata": {},
   "outputs": [
    {
     "data": {
      "text/plain": [
       "array([[ 1.,  2., nan],\n",
       "       [nan,  4.,  5.],\n",
       "       [ 6., nan,  8.]])"
      ]
     },
     "execution_count": 150,
     "metadata": {},
     "output_type": "execute_result"
    }
   ],
   "source": [
    "np.load('arr.npy')"
   ]
  },
  {
   "cell_type": "code",
   "execution_count": null,
   "id": "e5d410ba",
   "metadata": {},
   "outputs": [],
   "source": []
  }
 ],
 "metadata": {
  "kernelspec": {
   "display_name": "Python 3 (ipykernel)",
   "language": "python",
   "name": "python3"
  },
  "language_info": {
   "codemirror_mode": {
    "name": "ipython",
    "version": 3
   },
   "file_extension": ".py",
   "mimetype": "text/x-python",
   "name": "python",
   "nbconvert_exporter": "python",
   "pygments_lexer": "ipython3",
   "version": "3.9.13"
  }
 },
 "nbformat": 4,
 "nbformat_minor": 5
}

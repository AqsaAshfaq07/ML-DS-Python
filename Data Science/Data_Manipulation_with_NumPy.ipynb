{
 "cells": [
  {
   "cell_type": "markdown",
   "id": "98a798e0",
   "metadata": {},
   "source": [
    "# DATA MANIPULATION WITH NUMPY"
   ]
  },
  {
   "cell_type": "code",
   "execution_count": 151,
   "id": "b9888fd7",
   "metadata": {},
   "outputs": [],
   "source": [
    "import numpy as np\n",
    "arr = np.array([1, 2, 3])"
   ]
  },
  {
   "cell_type": "code",
   "execution_count": 152,
   "id": "af1a253c",
   "metadata": {},
   "outputs": [
    {
     "name": "stdout",
     "output_type": "stream",
     "text": [
      "array is: \n"
     ]
    },
    {
     "data": {
      "text/plain": [
       "dtype('int32')"
      ]
     },
     "execution_count": 152,
     "metadata": {},
     "output_type": "execute_result"
    }
   ],
   "source": [
    "print('array is: '.format(repr(arr)))\n",
    "arr.dtype"
   ]
  },
  {
   "cell_type": "code",
   "execution_count": 153,
   "id": "57139a66",
   "metadata": {},
   "outputs": [
    {
     "data": {
      "text/plain": [
       "dtype('float32')"
      ]
     },
     "execution_count": 153,
     "metadata": {},
     "output_type": "execute_result"
    }
   ],
   "source": [
    "# TYPE CASTING\n",
    "arr = arr.astype(np.float32)\n",
    "arr.dtype"
   ]
  },
  {
   "cell_type": "code",
   "execution_count": 154,
   "id": "7e2f508b",
   "metadata": {},
   "outputs": [
    {
     "data": {
      "text/plain": [
       "array([-inf,   2.,   4.])"
      ]
     },
     "execution_count": 154,
     "metadata": {},
     "output_type": "execute_result"
    }
   ],
   "source": [
    "# FILLER VALUE -- USING nan, infinity(inf)\n",
    "arr1 = np.array([np.nan, 2, 4])\n",
    "arr2 = np.array([np.inf, 2, 4])\n",
    "arr2 = np.array([-np.inf, 2, 4])\n",
    "\n",
    "arr2"
   ]
  },
  {
   "cell_type": "markdown",
   "id": "3fec0dc9",
   "metadata": {},
   "source": [
    "# MATH"
   ]
  },
  {
   "cell_type": "code",
   "execution_count": 155,
   "id": "d45075d0",
   "metadata": {},
   "outputs": [
    {
     "data": {
      "text/plain": [
       "array([5.9, 6. , 6.1, 6.2, 6.3, 6.4, 6.5, 6.6, 6.7, 6.8])"
      ]
     },
     "execution_count": 155,
     "metadata": {},
     "output_type": "execute_result"
    }
   ],
   "source": [
    "#Ranged Data\n",
    "arr3 = np.arange(5.9, 6.9, 0.1)  # --> start, end, gap\n",
    "arr3"
   ]
  },
  {
   "cell_type": "code",
   "execution_count": 156,
   "id": "f4699bf0",
   "metadata": {},
   "outputs": [
    {
     "data": {
      "text/plain": [
       "array([3. , 3.5, 4. , 4.5, 5. , 5.5, 6. , 6.5])"
      ]
     },
     "execution_count": 156,
     "metadata": {},
     "output_type": "execute_result"
    }
   ],
   "source": [
    "arr4 = np.linspace(3, 7, num= 8, endpoint= False)\n",
    "arr4"
   ]
  },
  {
   "cell_type": "code",
   "execution_count": 157,
   "id": "3dc8c1ee",
   "metadata": {},
   "outputs": [
    {
     "data": {
      "text/plain": [
       "array([[[5.9],\n",
       "        [6. ],\n",
       "        [6.1],\n",
       "        [6.2],\n",
       "        [6.3],\n",
       "        [6.4],\n",
       "        [6.5],\n",
       "        [6.6],\n",
       "        [6.7],\n",
       "        [6.8]]])"
      ]
     },
     "execution_count": 157,
     "metadata": {},
     "output_type": "execute_result"
    }
   ],
   "source": [
    "np.reshape(arr3, (-1, 10, 1))"
   ]
  },
  {
   "cell_type": "code",
   "execution_count": 158,
   "id": "7fee6296",
   "metadata": {},
   "outputs": [
    {
     "data": {
      "text/plain": [
       "array([[1, 2, 4],\n",
       "       [5, 7, 9],\n",
       "       [3, 6, 3]])"
      ]
     },
     "execution_count": 158,
     "metadata": {},
     "output_type": "execute_result"
    }
   ],
   "source": [
    "arr5 = np.array([[1, 2, 4], [5, 7, 9], [3, 6, 3]])\n",
    "arr5.flatten()\n",
    "arr5"
   ]
  },
  {
   "cell_type": "code",
   "execution_count": 186,
   "id": "8ebcf87b",
   "metadata": {},
   "outputs": [
    {
     "data": {
      "text/plain": [
       "array([[[ 0,  8, 16],\n",
       "        [ 1,  9, 17]],\n",
       "\n",
       "       [[ 2, 10, 18],\n",
       "        [ 3, 11, 19]],\n",
       "\n",
       "       [[ 4, 12, 20],\n",
       "        [ 5, 13, 21]],\n",
       "\n",
       "       [[ 6, 14, 22],\n",
       "        [ 7, 15, 23]]])"
      ]
     },
     "execution_count": 186,
     "metadata": {},
     "output_type": "execute_result"
    }
   ],
   "source": [
    "arr6 = np.arange(24)\n",
    "arr6 = np.reshape(arr6, (3, 4, 2))\n",
    "transposed = np.transpose(arr6, axes=(1, 2, 0))\n",
    "transposed "
   ]
  },
  {
   "cell_type": "code",
   "execution_count": 160,
   "id": "7e75e56a",
   "metadata": {},
   "outputs": [
    {
     "data": {
      "text/plain": [
       "array([[1., 1., 1., 1., 1.],\n",
       "       [1., 1., 1., 1., 1.],\n",
       "       [1., 1., 1., 1., 1.],\n",
       "       [1., 1., 1., 1., 1.]])"
      ]
     },
     "execution_count": 160,
     "metadata": {},
     "output_type": "execute_result"
    }
   ],
   "source": [
    "np.zeros(4)\n",
    "np.ones((4, 5))"
   ]
  },
  {
   "cell_type": "code",
   "execution_count": 161,
   "id": "2b0a5003",
   "metadata": {},
   "outputs": [
    {
     "data": {
      "text/plain": [
       "array([[0, 0, 0],\n",
       "       [0, 0, 0],\n",
       "       [0, 0, 0]])"
      ]
     },
     "execution_count": 161,
     "metadata": {},
     "output_type": "execute_result"
    }
   ],
   "source": [
    "np.zeros_like(arr5)"
   ]
  },
  {
   "cell_type": "markdown",
   "id": "7ba8c9c9",
   "metadata": {},
   "source": [
    "# RANDOM"
   ]
  },
  {
   "cell_type": "code",
   "execution_count": 162,
   "id": "0f522862",
   "metadata": {},
   "outputs": [
    {
     "data": {
      "text/plain": [
       "array([[1.        , 1.41421356],\n",
       "       [1.73205081, 2.        ]])"
      ]
     },
     "execution_count": 162,
     "metadata": {},
     "output_type": "execute_result"
    }
   ],
   "source": [
    "#ARITHEMATIC OPERATIONS ON ARRAYS  -- these operations are performed element-wise by default\n",
    "arr7 = np.array([[1, 2], [3, 4]])\n",
    "arr7 + 2\n",
    "arr7 * 2\n",
    "arr7 - 2\n",
    "arr7 / 2\n",
    "arr7 % 2\n",
    "arr7 // 2\n",
    "arr7 ** 2\n",
    "arr7 ** 0.5"
   ]
  },
  {
   "cell_type": "code",
   "execution_count": 163,
   "id": "a28582b6",
   "metadata": {},
   "outputs": [
    {
     "data": {
      "text/plain": [
       "array([ 3565.77510726,  4096.        ,  4705.06846207,  5404.70440253,\n",
       "        6208.37505643,  7131.55021452,  8192.        ,  9410.13692414,\n",
       "       10809.40880505, 12416.75011285])"
      ]
     },
     "execution_count": 163,
     "metadata": {},
     "output_type": "execute_result"
    }
   ],
   "source": [
    "#NON-LINEAR FUNCTIONS\n",
    "np.exp(arr3)\n",
    "np.exp2(arr3)\n",
    "np.log(arr3)\n",
    "np.log2(arr3)\n",
    "np.log10(arr3)\n",
    "np.power(4, arr3)"
   ]
  },
  {
   "cell_type": "code",
   "execution_count": 164,
   "id": "b597bba2",
   "metadata": {},
   "outputs": [
    {
     "data": {
      "text/plain": [
       "array([[ 7, 18, 12],\n",
       "       [15, 38, 28],\n",
       "       [11, 28, 20]])"
      ]
     },
     "execution_count": 164,
     "metadata": {},
     "output_type": "execute_result"
    }
   ],
   "source": [
    "#MATRIX MULPLICATION\n",
    "mat1 = np.array([[1, 2], [3, 4], [2, 3]])\n",
    "mat2 = np.array([[1, 2, 4], [3, 8, 4]])\n",
    "np.matmul(mat1, mat2)"
   ]
  },
  {
   "cell_type": "code",
   "execution_count": 165,
   "id": "b9b357b6",
   "metadata": {},
   "outputs": [
    {
     "data": {
      "text/plain": [
       "array([[6, 4, 5, 5, 4, 5]])"
      ]
     },
     "execution_count": 165,
     "metadata": {},
     "output_type": "execute_result"
    }
   ],
   "source": [
    "#Random Integers \n",
    "rand_num = np.random.randint(3, high = 7, size = (1,6))\n",
    "rand_num"
   ]
  },
  {
   "cell_type": "code",
   "execution_count": 166,
   "id": "7fa47191",
   "metadata": {},
   "outputs": [
    {
     "data": {
      "text/plain": [
       "array([[[16, 17],\n",
       "        [18, 19],\n",
       "        [20, 21],\n",
       "        [22, 23]],\n",
       "\n",
       "       [[ 0,  1],\n",
       "        [ 2,  3],\n",
       "        [ 4,  5],\n",
       "        [ 6,  7]],\n",
       "\n",
       "       [[ 8,  9],\n",
       "        [10, 11],\n",
       "        [12, 13],\n",
       "        [14, 15]]])"
      ]
     },
     "execution_count": 166,
     "metadata": {},
     "output_type": "execute_result"
    }
   ],
   "source": [
    "#Utility Functions\n",
    "np.random.seed(4)\n",
    "rand_num = np.random.randint(3, high = 7, size = (1,6))\n",
    "rand_num\n",
    "\n",
    "np.random.seed(10)\n",
    "rand_num = np.random.randint(3, high = 7, size = (1,6))\n",
    "rand_num\n",
    "\n",
    "np.random.shuffle(arr)\n",
    "np.random.shuffle(arr6)\n",
    "arr6"
   ]
  },
  {
   "cell_type": "code",
   "execution_count": 167,
   "id": "cb073556",
   "metadata": {},
   "outputs": [
    {
     "data": {
      "text/plain": [
       "array([ 4.55425368, 11.64687942,  1.79669028, -2.13676012,  5.12007535,\n",
       "       10.04310437])"
      ]
     },
     "execution_count": 167,
     "metadata": {},
     "output_type": "execute_result"
    }
   ],
   "source": [
    "#Distributions \n",
    "np.random.uniform(1, 3, size = (5, 2))\n",
    "np.random.normal(loc = 3, scale = 5, size = 6)    # loc -> mean, scale -> standard deviation"
   ]
  },
  {
   "cell_type": "code",
   "execution_count": 168,
   "id": "ac720c85",
   "metadata": {},
   "outputs": [
    {
     "data": {
      "text/plain": [
       "array([2. , 3.8, 2. , 2.9, 2. ])"
      ]
     },
     "execution_count": 168,
     "metadata": {},
     "output_type": "execute_result"
    }
   ],
   "source": [
    "#Custom Sampling\n",
    "arr8 = np.arange(2, 4, 0.9)\n",
    "np.random.choice(arr8, size = 5, p = [0.2, 0.6, 0.2]) # sum of p(probability) values =1 -- defines the chance to be chosen"
   ]
  },
  {
   "cell_type": "markdown",
   "id": "45126ee6",
   "metadata": {},
   "source": [
    "# INDEXING"
   ]
  },
  {
   "cell_type": "code",
   "execution_count": 169,
   "id": "2cd17e36",
   "metadata": {},
   "outputs": [
    {
     "data": {
      "text/plain": [
       "array([2. , 2.9, 3.8])"
      ]
     },
     "execution_count": 169,
     "metadata": {},
     "output_type": "execute_result"
    }
   ],
   "source": [
    "#Accessing Arrays\n",
    "arr8[2]\n",
    "arr8"
   ]
  },
  {
   "cell_type": "code",
   "execution_count": 170,
   "id": "3de853f1",
   "metadata": {},
   "outputs": [
    {
     "data": {
      "text/plain": [
       "array([2.])"
      ]
     },
     "execution_count": 170,
     "metadata": {},
     "output_type": "execute_result"
    }
   ],
   "source": [
    "#Slicing Arrays\n",
    "arr8[:1]"
   ]
  },
  {
   "cell_type": "code",
   "execution_count": 171,
   "id": "6fee67d2",
   "metadata": {},
   "outputs": [
    {
     "data": {
      "text/plain": [
       "2"
      ]
     },
     "execution_count": 171,
     "metadata": {},
     "output_type": "execute_result"
    }
   ],
   "source": [
    "#Argmin and Argmax --> returns the index of the smallest or largest value in the array\n",
    "np.argmin(arr8)  \n",
    "np.argmax(arr8)"
   ]
  },
  {
   "cell_type": "code",
   "execution_count": 172,
   "id": "9fb5f156",
   "metadata": {},
   "outputs": [
    {
     "data": {
      "text/plain": [
       "8"
      ]
     },
     "execution_count": 172,
     "metadata": {},
     "output_type": "execute_result"
    }
   ],
   "source": [
    "np.argmin(arr6)"
   ]
  },
  {
   "cell_type": "code",
   "execution_count": 173,
   "id": "7d169463",
   "metadata": {},
   "outputs": [
    {
     "data": {
      "text/plain": [
       "7"
      ]
     },
     "execution_count": 173,
     "metadata": {},
     "output_type": "execute_result"
    }
   ],
   "source": [
    "np.argmax(arr6)"
   ]
  },
  {
   "cell_type": "code",
   "execution_count": 174,
   "id": "dd30a5a7",
   "metadata": {},
   "outputs": [
    {
     "data": {
      "text/plain": [
       "array([[1, 1],\n",
       "       [1, 1],\n",
       "       [1, 1],\n",
       "       [1, 1]], dtype=int64)"
      ]
     },
     "execution_count": 174,
     "metadata": {},
     "output_type": "execute_result"
    }
   ],
   "source": [
    "np.argmin(arr6, axis = 0)"
   ]
  },
  {
   "cell_type": "code",
   "execution_count": 175,
   "id": "cda087cd",
   "metadata": {},
   "outputs": [
    {
     "data": {
      "text/plain": [
       "array([20, 21])"
      ]
     },
     "execution_count": 175,
     "metadata": {},
     "output_type": "execute_result"
    }
   ],
   "source": [
    "arr6[0][2]"
   ]
  },
  {
   "cell_type": "markdown",
   "id": "8a85c27d",
   "metadata": {},
   "source": [
    "# FILTERING"
   ]
  },
  {
   "cell_type": "code",
   "execution_count": 176,
   "id": "cf5ed776",
   "metadata": {},
   "outputs": [
    {
     "data": {
      "text/plain": [
       "array([[[ True,  True],\n",
       "        [ True,  True],\n",
       "        [ True,  True],\n",
       "        [ True,  True]],\n",
       "\n",
       "       [[False, False],\n",
       "        [False, False],\n",
       "        [ True,  True],\n",
       "        [ True,  True]],\n",
       "\n",
       "       [[ True,  True],\n",
       "        [ True,  True],\n",
       "        [ True,  True],\n",
       "        [ True,  True]]])"
      ]
     },
     "execution_count": 176,
     "metadata": {},
     "output_type": "execute_result"
    }
   ],
   "source": [
    "arr6 > 3"
   ]
  },
  {
   "cell_type": "code",
   "execution_count": 177,
   "id": "e8573d53",
   "metadata": {},
   "outputs": [
    {
     "data": {
      "text/plain": [
       "array([[False, False,  True],\n",
       "       [ True, False, False],\n",
       "       [False,  True, False]])"
      ]
     },
     "execution_count": 177,
     "metadata": {},
     "output_type": "execute_result"
    }
   ],
   "source": [
    "arr9 = [[1, 2, np.nan], [np.nan, 4, 5], [6, np.nan, 8]]\n",
    "np.isnan(arr9)"
   ]
  },
  {
   "cell_type": "code",
   "execution_count": 178,
   "id": "20072d1c",
   "metadata": {},
   "outputs": [
    {
     "data": {
      "text/plain": [
       "(array([3, 4], dtype=int64),)"
      ]
     },
     "execution_count": 178,
     "metadata": {},
     "output_type": "execute_result"
    }
   ],
   "source": [
    "arr10 = np.array([1, 2, 3, 5, 9])\n",
    "np.where(arr10 > 3)  # finds index according to provided condition"
   ]
  },
  {
   "cell_type": "code",
   "execution_count": 179,
   "id": "5050c685",
   "metadata": {},
   "outputs": [
    {
     "data": {
      "text/plain": [
       "False"
      ]
     },
     "execution_count": 179,
     "metadata": {},
     "output_type": "execute_result"
    }
   ],
   "source": [
    "np.any(arr6 > 6)  # True\n",
    "np.all(arr > 3, axis = 0)  # False"
   ]
  },
  {
   "cell_type": "code",
   "execution_count": 180,
   "id": "cdb230c6",
   "metadata": {},
   "outputs": [
    {
     "data": {
      "text/plain": [
       "numpy.broadcast"
      ]
     },
     "execution_count": 180,
     "metadata": {},
     "output_type": "execute_result"
    }
   ],
   "source": [
    "np.broadcast"
   ]
  },
  {
   "cell_type": "markdown",
   "id": "a7b559a2",
   "metadata": {},
   "source": [
    "# Statistics"
   ]
  },
  {
   "cell_type": "code",
   "execution_count": 181,
   "id": "9f66c755",
   "metadata": {},
   "outputs": [
    {
     "data": {
      "text/plain": [
       "array([ 16,  33,  51,  70,  90, 111, 133, 156, 156, 157, 159, 162, 166,\n",
       "       171, 177, 184, 192, 201, 211, 222, 234, 247, 261, 276], dtype=int32)"
      ]
     },
     "execution_count": 181,
     "metadata": {},
     "output_type": "execute_result"
    }
   ],
   "source": [
    "np.mean(arr6)\n",
    "np.sum(arr6)\n",
    "np.cumsum(arr6)  # running sum of all numbers"
   ]
  },
  {
   "cell_type": "code",
   "execution_count": 182,
   "id": "4776622e",
   "metadata": {},
   "outputs": [
    {
     "data": {
      "text/plain": [
       "array([16, 17, 18, 19, 20, 21, 22, 23,  0,  1,  2,  3,  4,  5,  6,  7,  8,\n",
       "        9, 10, 11, 12, 13, 14, 15])"
      ]
     },
     "execution_count": 182,
     "metadata": {},
     "output_type": "execute_result"
    }
   ],
   "source": [
    "arr6.flatten()"
   ]
  },
  {
   "cell_type": "code",
   "execution_count": 183,
   "id": "7c2cb981",
   "metadata": {},
   "outputs": [
    {
     "data": {
      "text/plain": [
       "array([[ 1.,  2.,  4.,  1.,  2., nan],\n",
       "       [ 3.,  5.,  7., nan,  4.,  5.],\n",
       "       [ 6.,  8.,  9.,  6., nan,  8.]])"
      ]
     },
     "execution_count": 183,
     "metadata": {},
     "output_type": "execute_result"
    }
   ],
   "source": [
    "arr11 = np.array([[1, 2, 4], [3, 5, 7], [6, 8, 9]])\n",
    "np.concatenate([arr11, arr9], axis = 1)  #performs horizonal concatenation"
   ]
  },
  {
   "cell_type": "markdown",
   "id": "dba0f8f1",
   "metadata": {},
   "source": [
    "# Saving And Loading"
   ]
  },
  {
   "cell_type": "code",
   "execution_count": 184,
   "id": "4a860124",
   "metadata": {},
   "outputs": [],
   "source": [
    "np.save('arr.npy', arr9)"
   ]
  },
  {
   "cell_type": "code",
   "execution_count": 185,
   "id": "2f51e9ca",
   "metadata": {},
   "outputs": [
    {
     "data": {
      "text/plain": [
       "array([[ 1.,  2., nan],\n",
       "       [nan,  4.,  5.],\n",
       "       [ 6., nan,  8.]])"
      ]
     },
     "execution_count": 185,
     "metadata": {},
     "output_type": "execute_result"
    }
   ],
   "source": [
    "np.load('arr.npy')"
   ]
  }
 ],
 "metadata": {
  "kernelspec": {
   "display_name": "Python 3 (ipykernel)",
   "language": "python",
   "name": "python3"
  },
  "language_info": {
   "codemirror_mode": {
    "name": "ipython",
    "version": 3
   },
   "file_extension": ".py",
   "mimetype": "text/x-python",
   "name": "python",
   "nbconvert_exporter": "python",
   "pygments_lexer": "ipython3",
   "version": "3.9.13"
  }
 },
 "nbformat": 4,
 "nbformat_minor": 5
}
